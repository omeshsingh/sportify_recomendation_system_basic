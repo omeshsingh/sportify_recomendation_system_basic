{
  "nbformat": 4,
  "nbformat_minor": 0,
  "metadata": {
    "colab": {
      "provenance": [],
      "gpuType": "T4",
      "include_colab_link": true
    },
    "kernelspec": {
      "name": "python3",
      "display_name": "Python 3"
    },
    "language_info": {
      "name": "python"
    },
    "accelerator": "GPU"
  },
  "cells": [
    {
      "cell_type": "markdown",
      "metadata": {
        "id": "view-in-github",
        "colab_type": "text"
      },
      "source": [
        "<a href=\"https://colab.research.google.com/github/omeshsingh/sportify_recomendation_system_basic/blob/main/Spotify_Recommendation_System.ipynb\" target=\"_parent\"><img src=\"https://colab.research.google.com/assets/colab-badge.svg\" alt=\"Open In Colab\"/></a>"
      ]
    },
    {
      "cell_type": "code",
      "source": [
        "!pip install spotipy"
      ],
      "metadata": {
        "colab": {
          "base_uri": "https://localhost:8080/"
        },
        "id": "_Zfm_0cgcxzT",
        "outputId": "1c43bf4d-aaf1-499f-ed2f-71fda74608a4"
      },
      "execution_count": null,
      "outputs": [
        {
          "output_type": "stream",
          "name": "stdout",
          "text": [
            "Collecting spotipy\n",
            "  Downloading spotipy-2.24.0-py3-none-any.whl.metadata (4.9 kB)\n",
            "Collecting redis>=3.5.3 (from spotipy)\n",
            "  Downloading redis-5.0.8-py3-none-any.whl.metadata (9.2 kB)\n",
            "Requirement already satisfied: requests>=2.25.0 in /usr/local/lib/python3.10/dist-packages (from spotipy) (2.31.0)\n",
            "Requirement already satisfied: urllib3>=1.26.0 in /usr/local/lib/python3.10/dist-packages (from spotipy) (2.0.7)\n",
            "Requirement already satisfied: async-timeout>=4.0.3 in /usr/local/lib/python3.10/dist-packages (from redis>=3.5.3->spotipy) (4.0.3)\n",
            "Requirement already satisfied: charset-normalizer<4,>=2 in /usr/local/lib/python3.10/dist-packages (from requests>=2.25.0->spotipy) (3.3.2)\n",
            "Requirement already satisfied: idna<4,>=2.5 in /usr/local/lib/python3.10/dist-packages (from requests>=2.25.0->spotipy) (3.7)\n",
            "Requirement already satisfied: certifi>=2017.4.17 in /usr/local/lib/python3.10/dist-packages (from requests>=2.25.0->spotipy) (2024.7.4)\n",
            "Downloading spotipy-2.24.0-py3-none-any.whl (30 kB)\n",
            "Downloading redis-5.0.8-py3-none-any.whl (255 kB)\n",
            "\u001b[2K   \u001b[90m━━━━━━━━━━━━━━━━━━━━━━━━━━━━━━━━━━━━━━━━\u001b[0m \u001b[32m255.6/255.6 kB\u001b[0m \u001b[31m11.3 MB/s\u001b[0m eta \u001b[36m0:00:00\u001b[0m\n",
            "\u001b[?25hInstalling collected packages: redis, spotipy\n",
            "Successfully installed redis-5.0.8 spotipy-2.24.0\n"
          ]
        }
      ]
    },
    {
      "cell_type": "code",
      "execution_count": null,
      "metadata": {
        "colab": {
          "base_uri": "https://localhost:8080/"
        },
        "id": "S2vOn4uScr5L",
        "outputId": "283f5907-dd1a-4906-ded1-bfa0275bd7d9"
      },
      "outputs": [
        {
          "output_type": "stream",
          "name": "stdout",
          "text": [
            "                  name        artist                        album\n",
            "2   Knights of Cydonia          Muse  Black Holes and Revelations\n",
            "12          SICKO MODE  Travis Scott                   ASTROWORLD\n",
            "9            Despacito    Luis Fonsi                         VIDA\n",
            "1              Wannabe   Spice Girls                        Spice\n"
          ]
        },
        {
          "output_type": "stream",
          "name": "stderr",
          "text": [
            "/usr/local/lib/python3.10/dist-packages/sklearn/cluster/_kmeans.py:1416: FutureWarning: The default value of `n_init` will change from 10 to 'auto' in 1.4. Set the value of `n_init` explicitly to suppress the warning\n",
            "  super()._check_params_vs_input(X, default_n_init=10)\n"
          ]
        }
      ],
      "source": [
        "import spotipy\n",
        "from spotipy.oauth2 import SpotifyClientCredentials\n",
        "import pandas as pd\n",
        "from sklearn.preprocessing import StandardScaler\n",
        "from sklearn.cluster import KMeans\n",
        "\n",
        "client_id = '5ddbb60ca58548e9af6be6a9e5f7e380'\n",
        "client_secret = 'f6bec82dd19a467cb770201ef92098bc'\n",
        "client_credentials_manager = SpotifyClientCredentials(client_id=client_id, client_secret=client_secret)\n",
        "sp = spotipy.Spotify(client_credentials_manager=client_credentials_manager)\n",
        "\n",
        "\n",
        "def get_song_features(track_id):\n",
        "    meta = sp.track(track_id)\n",
        "    features = sp.audio_features(track_id)\n",
        "\n",
        "    track_info = {\n",
        "        'name': meta['name'],\n",
        "        'album': meta['album']['name'],\n",
        "        'artist': meta['album']['artists'][0]['name'],\n",
        "        'release_date': meta['album']['release_date'],\n",
        "        'length': meta['duration_ms'],\n",
        "        'popularity': meta['popularity'],\n",
        "        'danceability': features[0]['danceability'],\n",
        "        'energy': features[0]['energy'],\n",
        "        'key': features[0]['key'],\n",
        "        'loudness': features[0]['loudness'],\n",
        "        'mode': features[0]['mode'],\n",
        "        'speechiness': features[0]['speechiness'],\n",
        "        'acousticness': features[0]['acousticness'],\n",
        "        'instrumentalness': features[0]['instrumentalness'],\n",
        "        'liveness': features[0]['liveness'],\n",
        "        'valence': features[0]['valence'],\n",
        "        'tempo': features[0]['tempo']\n",
        "    }\n",
        "    return track_info\n",
        "\n",
        "\n",
        "track_ids = [\n",
        "    '0VjIjW4GlUZAMYd2vXMi3b',  # The Weeknd - Blinding Lights\n",
        "    '1Je1IMUlBXcx1Fz0WE7oPT',  # Wannabe\n",
        "    '7ouMYWpwJ422jRcDASZB7P',  # Knights of Cydonia\n",
        "    '2G7V7zsVDxg1yRsu7Ew9RJ',  # In My Feelings\n",
        "    '0E9ZjEAyAwOXZ7wJC0PD33',  # In My Mind\n",
        "    '2Fxmhks0bxGSBdJ92vM42m',  # Billie Eilish - bad guy\n",
        "    '4uLU6hMCjMI75M1A2tKUQC',  # Never Gonna Give You Up\n",
        "    '3KkXRkHbMCARz0aVfEt68P',  # Sunflower - Spider-Man: Into the Spider-Verse\n",
        "    '1rgnBhdG2JDFTbYkYRZAku',  # Dance Monkey\n",
        "    '6habFhsOp2NvshLv26DqMb',  # Despacito\n",
        "    '0pqnGHJpmpxLKifKRmU6WP',  # Believer\n",
        "    '0u2P5u6lvoDfwTYjAADbn4',  # Billie Eilish - lovely (with Khalid)\n",
        "    '2xLMifQCjDGFmkHkpNLD9h'   # SICKO MODE\n",
        "]\n",
        "track_features = [get_song_features(track_id) for track_id in track_ids]\n",
        "\n",
        "df = pd.DataFrame(track_features)\n",
        "\n",
        "features = df[['danceability', 'energy', 'key', 'loudness', 'mode', 'speechiness', 'acousticness', 'instrumentalness', 'liveness', 'valence', 'tempo']]\n",
        "\n",
        "\n",
        "scaler = StandardScaler()\n",
        "scaled_features = scaler.fit_transform(features)\n",
        "\n",
        "num_clusters = min(len(track_features), 3)\n",
        "kmeans = KMeans(n_clusters=num_clusters, random_state=42)\n",
        "kmeans.fit(scaled_features)\n",
        "\n",
        "\n",
        "df['cluster'] = kmeans.labels_\n",
        "\n",
        "# print(df['name'].values)\n",
        "\n",
        "def recommend_songs(song_name, df, n_recommendations=4):\n",
        "    if song_name not in df['name'].values:\n",
        "        return f\"Song '{song_name}' not found in the dataset.\"\n",
        "\n",
        "    song_cluster = df[df['name'] == song_name]['cluster'].values[0]\n",
        "    recommendations = df[df['cluster'] == song_cluster].sample(n_recommendations)\n",
        "    return recommendations[['name', 'artist', 'album']]\n",
        "\n",
        "song_name = 'Believer'\n",
        "recommendations = recommend_songs(song_name, df)\n",
        "print(recommendations)\n"
      ]
    }
  ]
}